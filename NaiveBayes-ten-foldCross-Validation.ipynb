{
 "cells": [
  {
   "cell_type": "code",
   "execution_count": 1,
   "id": "1b275736-a2f3-41f8-8eab-97c40cadd924",
   "metadata": {},
   "outputs": [],
   "source": [
    "import numpy as np\n",
    "import pandas as pd\n",
    "from sklearn.model_selection import train_test_split, StratifiedKFold, cross_val_score\n",
    "from sklearn.preprocessing import LabelEncoder\n",
    "from sklearn.naive_bayes import GaussianNB\n",
    "from sklearn.metrics import accuracy_score, precision_score, recall_score, roc_auc_score, confusion_matrix"
   ]
  },
  {
   "cell_type": "code",
   "execution_count": 2,
   "id": "6272e623-8bfd-4724-9618-e39fb1d99bf5",
   "metadata": {},
   "outputs": [],
   "source": [
    "# Load dataset\n",
    "data = pd.read_csv('Predict Academic Success - data.csv')"
   ]
  },
  {
   "cell_type": "code",
   "execution_count": 3,
   "id": "3aef7d05-349f-46f6-9c87-47ea76921673",
   "metadata": {},
   "outputs": [],
   "source": [
    "# Convert categorical columns to numerical using Label Encoding\n",
    "categorical_columns = [\"Marital status\", \"Application mode\", \"Course\", \"Daytime/evening attendance\\t\", \n",
    "                       \"Previous qualification\", \"Nacionality\", \"Mother's qualification\", \"Father's qualification\"]\n",
    "\n",
    "label_encoders = {}\n",
    "for col in categorical_columns:\n",
    "    le = LabelEncoder()\n",
    "    data[col] = le.fit_transform(data[col])\n",
    "    label_encoders[col] = le  # Save encoder in case we need to transform new data"
   ]
  },
  {
   "cell_type": "code",
   "execution_count": 4,
   "id": "dd060ac4-2b56-4a5e-9fca-a26a17687346",
   "metadata": {},
   "outputs": [],
   "source": [
    "# Convert the target using Label Encoding ('Dropout', 'Enrolled', 'Graduate')\n",
    "label_encoder = LabelEncoder()\n",
    "data[\"Target\"] = label_encoder.fit_transform(data[\"Target\"])\n",
    "\n",
    "# Define features (X) and target (y)\n",
    "X = data.drop(columns=[\"Target\"])  # Exclude target column\n",
    "y = data[\"Target\"]\n",
    "\n",
    "# Split dataset\n",
    "train_test_data, unseen_data = train_test_split(data, test_size=0.10, random_state=42, stratify=data[\"Target\"])\n",
    "train_data, test_data = train_test_split(train_test_data, test_size=0.20, random_state=42, stratify=train_test_data[\"Target\"])\n"
   ]
  },
  {
   "cell_type": "code",
   "execution_count": 14,
   "id": "b1fc9fde-78cf-4c7b-8654-5a35f0a8fc1e",
   "metadata": {},
   "outputs": [
    {
     "name": "stdout",
     "output_type": "stream",
     "text": [
      "Cross-validation accuracy scores: \n",
      "[0.6677116  0.69278997 0.69592476 0.6677116  0.66352201 0.71383648\n",
      " 0.67610063 0.62893082 0.67924528 0.72641509]\n",
      "\n",
      "Mean cross-validation accuracy: \n",
      "0.6812188245499892\n",
      "\n",
      "Accuracy: \n",
      "0.6900878293601004\n",
      "\n",
      "Precision: \n",
      "0.6724237127176027\n",
      "\n",
      "Recall: \n",
      "0.6900878293601004\n",
      "\n",
      "ROC-AUC: \n",
      "0.7998736729326316\n",
      "\n",
      "Confusion Matrix:\n",
      "[[171  33  52]\n",
      " [ 31  40  72]\n",
      " [ 31  28 339]]\n"
     ]
    }
   ],
   "source": [
    "# Extract features and target\n",
    "X_train = train_data.drop(columns=[\"Target\"])\n",
    "y_train = train_data[\"Target\"]\n",
    "X_test = test_data.drop(columns=[\"Target\"])\n",
    "y_test = test_data[\"Target\"]\n",
    "\n",
    "# Initialize Naive Bayes model\n",
    "nb_model = GaussianNB()\n",
    "\n",
    "# Apply 10-fold cross-validation\n",
    "cv = StratifiedKFold(n_splits=10, shuffle=True, random_state=42)\n",
    "cross_val_scores = cross_val_score(nb_model, X_train, y_train, cv=cv, scoring='accuracy')\n",
    "\n",
    "print(f\"Cross-validation accuracy scores: \\n{cross_val_scores}\\n\")\n",
    "print(f\"Mean cross-validation accuracy: \\n{cross_val_scores.mean()}\\n\")\n",
    "\n",
    "# Train the model\n",
    "nb_model.fit(X_train, y_train)\n",
    "\n",
    "# Predictions\n",
    "y_pred = nb_model.predict(X_test)\n",
    "\n",
    "# Evaluation Metrics\n",
    "accuracy = accuracy_score(y_test, y_pred)\n",
    "precision = precision_score(y_test, y_pred, average='weighted')\n",
    "recall = recall_score(y_test, y_pred, average='weighted')\n",
    "roc_auc = roc_auc_score(y_test, nb_model.predict_proba(X_test), multi_class=\"ovr\")\n",
    "\n",
    "# Confusion Matrix\n",
    "conf_matrix = confusion_matrix(y_test, y_pred)\n",
    "\n",
    "print(f\"Accuracy: \\n{accuracy}\\n\")\n",
    "print(f\"Precision: \\n{precision}\\n\")\n",
    "print(f\"Recall: \\n{recall}\\n\")\n",
    "print(f\"ROC-AUC: \\n{roc_auc}\\n\")\n",
    "print(f\"Confusion Matrix:\\n{conf_matrix}\")"
   ]
  },
  {
   "cell_type": "code",
   "execution_count": null,
   "id": "3f45d252-adbe-4129-a5e9-0a6a8ee96ad1",
   "metadata": {},
   "outputs": [],
   "source": []
  }
 ],
 "metadata": {
  "kernelspec": {
   "display_name": "Python 3 (ipykernel)",
   "language": "python",
   "name": "python3"
  },
  "language_info": {
   "codemirror_mode": {
    "name": "ipython",
    "version": 3
   },
   "file_extension": ".py",
   "mimetype": "text/x-python",
   "name": "python",
   "nbconvert_exporter": "python",
   "pygments_lexer": "ipython3",
   "version": "3.13.1"
  }
 },
 "nbformat": 4,
 "nbformat_minor": 5
}

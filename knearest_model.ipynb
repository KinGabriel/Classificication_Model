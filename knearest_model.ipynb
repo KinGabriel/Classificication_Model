{
 "cells": [
  {
   "cell_type": "code",
   "execution_count": 1,
   "id": "initial_id",
   "metadata": {},
   "outputs": [],
   "source": [
    "import numpy as np\n",
    "import pandas as pd\n",
    "import matplotlib.pyplot as plt\n",
    "import seaborn as sns\n",
    "from sklearn.model_selection import train_test_split\n",
    "from sklearn.preprocessing import LabelEncoder, StandardScaler\n",
    "from sklearn.neighbors import KNeighborsClassifier\n",
    "from sklearn.metrics import (\n",
    "    confusion_matrix, accuracy_score, precision_score, recall_score, roc_auc_score, classification_report\n",
    ")\n",
    "data = pd.read_csv('Predict_Academic_Success_Modified.csv')"
   ]
  },
  {
   "cell_type": "code",
   "execution_count": 2,
   "id": "100b2d627136a5f6",
   "metadata": {
    "jupyter": {
     "is_executing": true
    }
   },
   "outputs": [],
   "source": [
    "# convert the target into one hot encoded ('Dropout', 'Enrolled', 'Graduate')\n",
    "label_encoder = LabelEncoder()\n",
    "data[\"Target\"] = label_encoder.fit_transform(data[\"Target\"]) "
   ]
  },
  {
   "cell_type": "code",
   "execution_count": 3,
   "id": "5fd16fea533ba700",
   "metadata": {},
   "outputs": [],
   "source": [
    "# Get the target and feature of the dataset\n",
    "X = data.drop(columns=[\"Target\"]) # Features\n",
    "y = data[\"Target\"] # Target"
   ]
  },
  {
   "cell_type": "code",
   "execution_count": 8,
   "id": "a38c89b2bad40018",
   "metadata": {},
   "outputs": [],
   "source": [
    "# encode categorical features\n",
    "categorical_cols = [\"Previous qualification\", \"Mother's qualification\", \"Father's qualification\", \"Nacionality\",\n",
    "                    \"Mother's occupation\", \"Father's occupation\", \"Marital status\", \"Application mode\",\n",
    "                    \"Course\", \"Daytime/evening attendance\t\", \"Displaced\", \"Educational special needs\", \n",
    "                    \"Debtor\", \"Tuition fees up to date\", \"Gender\", \"Scholarship holder\", \"International\"]\n",
    "\n",
    "for col in categorical_cols:\n",
    "    X[col] = LabelEncoder().fit_transform(X[col])  \n",
    "\n",
    "# normalize numerical features\n",
    "scaler = StandardScaler()\n",
    "X = pd.DataFrame(scaler.fit_transform(X), columns=X.columns)"
   ]
  },
  {
   "cell_type": "code",
   "execution_count": null,
   "id": "0f80ddae-c750-4923-abff-5c62cadde315",
   "metadata": {},
   "outputs": [],
   "source": []
  }
 ],
 "metadata": {
  "kernelspec": {
   "display_name": "Python [conda env:base] *",
   "language": "python",
   "name": "conda-base-py"
  },
  "language_info": {
   "codemirror_mode": {
    "name": "ipython",
    "version": 3
   },
   "file_extension": ".py",
   "mimetype": "text/x-python",
   "name": "python",
   "nbconvert_exporter": "python",
   "pygments_lexer": "ipython3",
   "version": "3.12.7"
  }
 },
 "nbformat": 4,
 "nbformat_minor": 5
}

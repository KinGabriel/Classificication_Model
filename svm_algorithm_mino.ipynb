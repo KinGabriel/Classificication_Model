{
 "cells": [
  {
   "metadata": {
    "ExecuteTime": {
     "end_time": "2025-03-13T16:50:26.274413Z",
     "start_time": "2025-03-13T16:50:11.228106Z"
    }
   },
   "cell_type": "code",
   "source": [
    "import pandas as pd\n",
    "from sklearn.model_selection import train_test_split, StratifiedKFold, cross_val_predict\n",
    "from sklearn.svm import SVC\n",
    "from sklearn.preprocessing import LabelEncoder, StandardScaler\n",
    "from sklearn.metrics import confusion_matrix, accuracy_score, precision_score, recall_score, roc_auc_score\n",
    "\n",
    "data = pd.read_csv(\"Predict Academic Success - data.csv\")\n",
    "\n",
    "# Convert Target labels to numeric values\n",
    "label_encoder = LabelEncoder()\n",
    "data[\"Target\"] = label_encoder.fit_transform(data[\"Target\"])  # Dropout = 0, Enrolled = 1, Graduate = 2\n",
    "\n",
    "# Separate features (X) and target (y)\n",
    "X = data.iloc[:, :-1]  # All columns except Target\n",
    "y = data[\"Target\"]  # Target column\n",
    "\n",
    "# Standardize features for better SVM performance\n",
    "scaler = StandardScaler()\n",
    "X_scaled = scaler.fit_transform(X)\n",
    "\n",
    "# Split into 90% training & testing, 10% unseen\n",
    "X_train_test, X_unseen, y_train_test, y_unseen = train_test_split(\n",
    "    X_scaled, y, test_size=0.10, random_state=42, stratify=y)\n",
    "\n",
    "# Split 90% into 80% training and 20% testing\n",
    "X_train, X_test, y_train, y_test = train_test_split(\n",
    "    X_train_test, y_train_test, test_size=0.20, random_state=42, stratify=y_train_test)\n",
    "\n",
    "# Train SVM with 10-fold cross-validation\n",
    "svm_model = SVC(kernel='rbf', probability=True, random_state=42)\n",
    "cv = StratifiedKFold(n_splits=10, shuffle=True, random_state=42)\n",
    "\n",
    "# Perform cross-validation\n",
    "y_pred_cv = cross_val_predict(svm_model, X_train, y_train, cv=cv)"
   ],
   "id": "b561f88fb9a29115",
   "outputs": [],
   "execution_count": 42
  },
  {
   "metadata": {
    "ExecuteTime": {
     "end_time": "2025-03-13T16:48:56.719157Z",
     "start_time": "2025-03-13T16:48:54.974931Z"
    }
   },
   "cell_type": "code",
   "source": [
    "# Step 4: Evaluate the model\n",
    "conf_matrix = confusion_matrix(y_train, y_pred_cv)\n",
    "accuracy = accuracy_score(y_train, y_pred_cv)\n",
    "precision = precision_score(y_train, y_pred_cv, average='weighted')\n",
    "recall = recall_score(y_train, y_pred_cv, average='weighted')\n",
    "\n",
    "# ROC-AUC requires probability estimates and binary/multi-class consideration\n",
    "svm_model.fit(X_train, y_train)\n",
    "y_proba_cv = svm_model.predict_proba(X_train)\n",
    "roc_auc = roc_auc_score(y_train, y_proba_cv, multi_class='ovr')  # One-vs-Rest for multi-class\n",
    "\n",
    "# Return results\n",
    "print(\"Training Set Results\")\n",
    "print(conf_matrix)\n",
    "print(\"Accuracy:\", accuracy)\n",
    "print(\"Precision:\", precision)\n",
    "print(\"Recall:\", recall)\n",
    "print(\"ROC-AUC:\", roc_auc)\n"
   ],
   "id": "2fec2125dc4fc9ea",
   "outputs": [
    {
     "name": "stdout",
     "output_type": "stream",
     "text": [
      "Training Set Results\n",
      "[[ 741  100  182]\n",
      " [ 113  173  285]\n",
      " [  33   51 1506]]\n",
      "Accuracy: 0.7600502512562815\n",
      "Precision: 0.745337489521539\n",
      "Recall: 0.7600502512562815\n",
      "ROC-AUC: 0.8689557060040175\n"
     ]
    }
   ],
   "execution_count": 41
  },
  {
   "metadata": {
    "ExecuteTime": {
     "end_time": "2025-03-13T16:54:41.467713Z",
     "start_time": "2025-03-13T16:54:38.448769Z"
    }
   },
   "cell_type": "code",
   "source": [
    "# Perform cross-validation\n",
    "y_pred_cv_test = cross_val_predict(svm_model, X_test, y_test, cv=cv)\n",
    "# Step 4: Evaluate the model\n",
    "conf_matrix_test = confusion_matrix(y_test, y_pred_cv_test)\n",
    "accuracy_test = accuracy_score(y_test, y_pred_cv_test)\n",
    "precision_test = precision_score(y_test, y_pred_cv_test, average='weighted')\n",
    "recall_test = recall_score(y_test, y_pred_cv_test, average='weighted')\n",
    "\n",
    "# ROC-AUC requires probability estimates and binary/multi-class consideration\n",
    "svm_model.fit(X_train, y_train)\n",
    "y_proba_cv_test = svm_model.predict_proba(X_test)\n",
    "roc_auc_test = roc_auc_score(y_test, y_proba_cv_test, multi_class='ovr')  # One-vs-Rest for multi-class\n",
    "\n",
    "# Return results\n",
    "print(\"Testing Set Results\")\n",
    "print(conf_matrix_test)\n",
    "print(\"Accuracy:\", accuracy_test)\n",
    "print(\"Precision:\", precision_test)\n",
    "print(\"Recall:\", recall_test)\n",
    "print(\"ROC-AUC:\", roc_auc_test)"
   ],
   "id": "9c8b106283a5d651",
   "outputs": [
    {
     "name": "stdout",
     "output_type": "stream",
     "text": [
      "Testing Set Results\n",
      "[[174  29  53]\n",
      " [ 31  36  76]\n",
      " [ 18  11 369]]\n",
      "Accuracy: 0.726474278544542\n",
      "Precision: 0.7056327923298134\n",
      "Recall: 0.726474278544542\n",
      "ROC-AUC: 0.8689557060040175\n"
     ]
    }
   ],
   "execution_count": 43
  },
  {
   "metadata": {
    "ExecuteTime": {
     "end_time": "2025-03-13T16:55:51.606606Z",
     "start_time": "2025-03-13T16:55:51.507570Z"
    }
   },
   "cell_type": "code",
   "source": [
    "y_unseen_predict = svm_model.predict(X_unseen)\n",
    "y_unseen_predict_labels = label_encoder.inverse_transform(y_unseen_predict)\n",
    "pd.DataFrame({\"Actual\": label_encoder.inverse_transform(y_unseen), \"Predicted\": y_unseen_predict_labels})"
   ],
   "id": "126a6cb8dbbaea30",
   "outputs": [
    {
     "data": {
      "text/plain": [
       "       Actual Predicted\n",
       "0    Graduate  Graduate\n",
       "1    Graduate  Graduate\n",
       "2    Enrolled  Graduate\n",
       "3    Enrolled  Enrolled\n",
       "4    Graduate  Graduate\n",
       "..        ...       ...\n",
       "438  Graduate  Graduate\n",
       "439   Dropout   Dropout\n",
       "440  Enrolled  Enrolled\n",
       "441   Dropout  Graduate\n",
       "442  Graduate  Graduate\n",
       "\n",
       "[443 rows x 2 columns]"
      ],
      "text/html": [
       "<div>\n",
       "<style scoped>\n",
       "    .dataframe tbody tr th:only-of-type {\n",
       "        vertical-align: middle;\n",
       "    }\n",
       "\n",
       "    .dataframe tbody tr th {\n",
       "        vertical-align: top;\n",
       "    }\n",
       "\n",
       "    .dataframe thead th {\n",
       "        text-align: right;\n",
       "    }\n",
       "</style>\n",
       "<table border=\"1\" class=\"dataframe\">\n",
       "  <thead>\n",
       "    <tr style=\"text-align: right;\">\n",
       "      <th></th>\n",
       "      <th>Actual</th>\n",
       "      <th>Predicted</th>\n",
       "    </tr>\n",
       "  </thead>\n",
       "  <tbody>\n",
       "    <tr>\n",
       "      <th>0</th>\n",
       "      <td>Graduate</td>\n",
       "      <td>Graduate</td>\n",
       "    </tr>\n",
       "    <tr>\n",
       "      <th>1</th>\n",
       "      <td>Graduate</td>\n",
       "      <td>Graduate</td>\n",
       "    </tr>\n",
       "    <tr>\n",
       "      <th>2</th>\n",
       "      <td>Enrolled</td>\n",
       "      <td>Graduate</td>\n",
       "    </tr>\n",
       "    <tr>\n",
       "      <th>3</th>\n",
       "      <td>Enrolled</td>\n",
       "      <td>Enrolled</td>\n",
       "    </tr>\n",
       "    <tr>\n",
       "      <th>4</th>\n",
       "      <td>Graduate</td>\n",
       "      <td>Graduate</td>\n",
       "    </tr>\n",
       "    <tr>\n",
       "      <th>...</th>\n",
       "      <td>...</td>\n",
       "      <td>...</td>\n",
       "    </tr>\n",
       "    <tr>\n",
       "      <th>438</th>\n",
       "      <td>Graduate</td>\n",
       "      <td>Graduate</td>\n",
       "    </tr>\n",
       "    <tr>\n",
       "      <th>439</th>\n",
       "      <td>Dropout</td>\n",
       "      <td>Dropout</td>\n",
       "    </tr>\n",
       "    <tr>\n",
       "      <th>440</th>\n",
       "      <td>Enrolled</td>\n",
       "      <td>Enrolled</td>\n",
       "    </tr>\n",
       "    <tr>\n",
       "      <th>441</th>\n",
       "      <td>Dropout</td>\n",
       "      <td>Graduate</td>\n",
       "    </tr>\n",
       "    <tr>\n",
       "      <th>442</th>\n",
       "      <td>Graduate</td>\n",
       "      <td>Graduate</td>\n",
       "    </tr>\n",
       "  </tbody>\n",
       "</table>\n",
       "<p>443 rows × 2 columns</p>\n",
       "</div>"
      ]
     },
     "execution_count": 44,
     "metadata": {},
     "output_type": "execute_result"
    }
   ],
   "execution_count": 44
  }
 ],
 "metadata": {
  "kernelspec": {
   "display_name": "Python 3",
   "language": "python",
   "name": "python3"
  },
  "language_info": {
   "codemirror_mode": {
    "name": "ipython",
    "version": 2
   },
   "file_extension": ".py",
   "mimetype": "text/x-python",
   "name": "python",
   "nbconvert_exporter": "python",
   "pygments_lexer": "ipython2",
   "version": "2.7.6"
  }
 },
 "nbformat": 4,
 "nbformat_minor": 5
}

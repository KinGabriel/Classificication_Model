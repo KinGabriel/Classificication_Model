{
 "cells": [
  {
   "cell_type": "code",
   "execution_count": 13,
   "id": "b561f88fb9a29115",
   "metadata": {
    "ExecuteTime": {
     "end_time": "2025-03-13T16:50:26.274413Z",
     "start_time": "2025-03-13T16:50:11.228106Z"
    }
   },
   "outputs": [],
   "source": [
    "import pandas as pd\n",
    "import numpy as np\n",
    "from sklearn.model_selection import train_test_split, StratifiedKFold, cross_val_score\n",
    "from sklearn.svm import SVC\n",
    "from sklearn.preprocessing import LabelEncoder, StandardScaler\n",
    "from sklearn.metrics import ConfusionMatrixDisplay, confusion_matrix, accuracy_score, precision_score, recall_score, roc_auc_score\n",
    "import matplotlib.colors as colors\n",
    "import matplotlib.pyplot as plt\n",
    "\n",
    "data = pd.read_csv(\"Predict Academic Success - data.csv\")\n",
    "\n",
    "# Convert Target labels to numeric values\n",
    "label_encoder = LabelEncoder()\n",
    "data[\"Target\"] = label_encoder.fit_transform(data[\"Target\"])  # Dropout = 0, Enrolled = 1, Graduate = 2\n",
    "\n",
    "# Separate features (X) and target (y)\n",
    "X = data.iloc[:, :-1]  # All columns except Target\n",
    "y = data[\"Target\"]  # Target column\n",
    "\n",
    "# Standardize features for better SVM performance\n",
    "scaler = StandardScaler()\n",
    "X_scaled = scaler.fit_transform(X)\n",
    "\n",
    "# Split into 90% training & testing, 10% unseen\n",
    "X_train_test, X_unseen, y_train_test, y_unseen = train_test_split(\n",
    "    X_scaled, y, test_size=0.10, random_state=42, stratify=y)\n",
    "\n",
    "# Split 90% into 80% training and 20% testing\n",
    "X_train, X_test, y_train, y_test = train_test_split(\n",
    "    X_train_test, y_train_test, test_size=0.20, random_state=42, stratify=y_train_test)\n",
    "\n",
    "# Train SVM with 10-fold cross-validation\n",
    "svm_model = SVC(kernel='rbf', probability=True, random_state=42)\n",
    "kf = StratifiedKFold(n_splits=10, shuffle=True, random_state=42)\n",
    "cv_scores = cross_val_score(svm_model, X_train, y_train, cv=kf, scoring=\"accuracy\") \n",
    "\n",
    "svm_model.fit(X_train, y_train)\n",
    "# Perform cross-validation\n",
    "y_pred = svm_model.predict(X_test)"
   ]
  },
  {
   "cell_type": "code",
   "execution_count": 14,
   "id": "2fec2125dc4fc9ea",
   "metadata": {
    "ExecuteTime": {
     "end_time": "2025-03-13T16:48:56.719157Z",
     "start_time": "2025-03-13T16:48:54.974931Z"
    }
   },
   "outputs": [
    {
     "name": "stdout",
     "output_type": "stream",
     "text": [
      "\n",
      "Testing Data Evaluation Results\n",
      "\n"
     ]
    },
    {
     "data": {
      "text/html": [
       "<div>\n",
       "<style scoped>\n",
       "    .dataframe tbody tr th:only-of-type {\n",
       "        vertical-align: middle;\n",
       "    }\n",
       "\n",
       "    .dataframe tbody tr th {\n",
       "        vertical-align: top;\n",
       "    }\n",
       "\n",
       "    .dataframe thead th {\n",
       "        text-align: right;\n",
       "    }\n",
       "</style>\n",
       "<table border=\"1\" class=\"dataframe\">\n",
       "  <thead>\n",
       "    <tr style=\"text-align: right;\">\n",
       "      <th></th>\n",
       "      <th>Metric</th>\n",
       "      <th>Value</th>\n",
       "    </tr>\n",
       "  </thead>\n",
       "  <tbody>\n",
       "    <tr>\n",
       "      <th>0</th>\n",
       "      <td>Cross-Validation Accuracy</td>\n",
       "      <td>0.760060</td>\n",
       "    </tr>\n",
       "    <tr>\n",
       "      <th>1</th>\n",
       "      <td>Accuracy</td>\n",
       "      <td>0.740276</td>\n",
       "    </tr>\n",
       "    <tr>\n",
       "      <th>2</th>\n",
       "      <td>Precision</td>\n",
       "      <td>0.729491</td>\n",
       "    </tr>\n",
       "    <tr>\n",
       "      <th>3</th>\n",
       "      <td>Recall</td>\n",
       "      <td>0.740276</td>\n",
       "    </tr>\n",
       "    <tr>\n",
       "      <th>4</th>\n",
       "      <td>ROC-AUC Score</td>\n",
       "      <td>0.868956</td>\n",
       "    </tr>\n",
       "  </tbody>\n",
       "</table>\n",
       "</div>"
      ],
      "text/plain": [
       "                      Metric     Value\n",
       "0  Cross-Validation Accuracy  0.760060\n",
       "1                   Accuracy  0.740276\n",
       "2                  Precision  0.729491\n",
       "3                     Recall  0.740276\n",
       "4              ROC-AUC Score  0.868956"
      ]
     },
     "execution_count": 14,
     "metadata": {},
     "output_type": "execute_result"
    },
    {
     "data": {
      "image/png": "[encoded data removed]",
      "text/plain": [
       "<Figure size 432x288 with 2 Axes>"
      ]
     },
     "metadata": {
      "needs_background": "light"
     },
     "output_type": "display_data"
    }
   ],
   "source": [
    "# Step 4: Evaluate the model\n",
    "conf_matrix = confusion_matrix(y_test, y_pred)\n",
    "accuracy = accuracy_score(y_test, y_pred)\n",
    "precision = precision_score(y_test, y_pred, average='weighted')\n",
    "recall = recall_score(y_test, y_pred, average='weighted')\n",
    "\n",
    "# ROC-AUC requires probability estimates and binary/multi-class consideration\n",
    "y_proba_cv = svm_model.predict_proba(X_test)\n",
    "roc_auc = roc_auc_score(y_test, y_proba_cv, multi_class='ovr')  # One-vs-Rest for multi-class\n",
    "\n",
    "# Return results\n",
    "testing_metric = {\n",
    "    \"Metric\" : [\n",
    "        \"Cross-Validation Accuracy\",\n",
    "        \"Accuracy\",\n",
    "        \"Precision\",\n",
    "        \"Recall\",\n",
    "        \"ROC-AUC Score\"\n",
    "    ],\n",
    "    \"Value\": [\n",
    "        np.mean(cv_scores),\n",
    "        accuracy,\n",
    "        precision,\n",
    "        recall,\n",
    "        roc_auc\n",
    "    ]\n",
    "}\n",
    "testing_metric_df = pd.DataFrame(testing_metric)\n",
    "\n",
    "# Display Confusion Matrix of testing data\n",
    "class_names = ['Dropout', 'Enrolled', 'Graduate']\n",
    "disp = ConfusionMatrixDisplay.from_estimator(\n",
    "        svm_model,\n",
    "        X_test,\n",
    "        y_test,\n",
    "        display_labels=class_names,\n",
    "        cmap=plt.cm.Blues)\n",
    "\n",
    "# Display the results for testing data\n",
    "print(\"\\nTesting Data Evaluation Results\\n\")\n",
    "testing_metric_df\n"
   ]
  },
  {
   "cell_type": "code",
   "execution_count": 15,
   "id": "126a6cb8dbbaea30",
   "metadata": {
    "ExecuteTime": {
     "end_time": "2025-03-13T16:55:51.606606Z",
     "start_time": "2025-03-13T16:55:51.507570Z"
    }
   },
   "outputs": [],
   "source": [
    "y_unseen_predict = svm_model.predict(X_unseen)\n",
    "y_unseen_predict_labels = label_encoder.inverse_transform(y_unseen_predict)\n",
    "unseen_svm = pd.DataFrame({\"Actual\": label_encoder.inverse_transform(y_unseen), \"Predicted\": y_unseen_predict_labels})\n",
    "unseen_svm.to_csv(\"SVM Algorithm's Predictions for Unseen Data\", index=False)"
   ]
  }
 ],
 "metadata": {
  "kernelspec": {
   "display_name": "Python 3",
   "language": "python",
   "name": "python3"
  },
  "language_info": {
   "codemirror_mode": {
    "name": "ipython",
    "version": 3
   },
   "file_extension": ".py",
   "mimetype": "text/x-python",
   "name": "python",
   "nbconvert_exporter": "python",
   "pygments_lexer": "ipython3",
   "version": "3.9.12"
  }
 },
 "nbformat": 4,
 "nbformat_minor": 5
}
